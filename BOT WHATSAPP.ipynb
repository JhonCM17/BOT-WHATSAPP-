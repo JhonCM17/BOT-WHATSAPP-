{
 "cells": [
  {
   "cell_type": "markdown",
   "metadata": {},
   "source": [
    "🚀 Proyecto: Bot de Automatización de WhatsApp con Python 🐍\n",
    "RECUERDEN QUE ESTO FUNCIONA EN WHATSAPP WEB"
   ]
  },
  {
   "cell_type": "markdown",
   "metadata": {},
   "source": [
    "PRIMERO DESCARGAMOS LAS LIBRERIAS NECESARIAS "
   ]
  },
  {
   "cell_type": "code",
   "execution_count": null,
   "metadata": {},
   "outputs": [],
   "source": [
    "pip install pandas pyautogui"
   ]
  },
  {
   "cell_type": "markdown",
   "metadata": {},
   "source": [
    "IMPORTAMOS LAS LIBRERIAS"
   ]
  },
  {
   "cell_type": "code",
   "execution_count": 6,
   "metadata": {},
   "outputs": [],
   "source": [
    "import pandas as pd\n",
    "import pyautogui as pg\n",
    "import webbrowser\n",
    "import time"
   ]
  },
  {
   "attachments": {
    "image.png": {
     "image/png": "[encoded data removed]"
    }
   },
   "cell_type": "markdown",
   "metadata": {},
   "source": [
    "VAMOS A DEFINIR LA RUTA DEL ARCHIVO, DE PREFERENCIA PONGAN SU EXCEL DENTRO DE LA CARPETA DEL PROYECTO\n",
    "MUY IMPORTANTE QUE LA COLUMNA DONDE SE ENCUENTRA LOS NUMEROS TENGA DE NOMBRE NUMEROS, O EN TODO CASO PUEDEN MODIFICARLO EN EL CODE AL NOMBRE QUE YA SE ENCUENTRA ESTABLECIDO \n",
    "\n",
    "\n",
    "\n",
    "![image.png](attachment:image.png)"
   ]
  },
  {
   "cell_type": "code",
   "execution_count": 7,
   "metadata": {},
   "outputs": [],
   "source": [
    "ruta_archivo = 'DATA.xlsx'\n",
    "excel = pd.read_excel(ruta_archivo)\n",
    "contactos = excel['NUMEROS']"
   ]
  },
  {
   "cell_type": "markdown",
   "metadata": {},
   "source": [
    "LUEGO ESCRIBIREMOS NUESTRO MENSAJE PARA NUESTROS CLIENTES POTENCIALES "
   ]
  },
  {
   "cell_type": "code",
   "execution_count": 8,
   "metadata": {},
   "outputs": [],
   "source": [
    "mensaje = \" ESTO ES UN EJEMPLO: Hola, soy un bot de WhatsApp 🤖👾\""
   ]
  },
  {
   "cell_type": "markdown",
   "metadata": {},
   "source": [
    "POR ULTIMO USAMOS UNA FUNCION PARA Y UN BUCLE FOR PARA RECORRER LA LISTA DE LA DATA"
   ]
  },
  {
   "cell_type": "code",
   "execution_count": 5,
   "metadata": {},
   "outputs": [
    {
     "name": "stdout",
     "output_type": "stream",
     "text": [
      "Asegúrate de haber iniciado sesión en WhatsApp Web.\n"
     ]
    }
   ],
   "source": [
    "def enviar_mensaje(contacto, mensaje):\n",
    "    url = f'https://web.whatsapp.com/send?phone={contacto}&text={mensaje}'\n",
    "    webbrowser.open_new_tab(url)\n",
    "    time.sleep(9)  \n",
    "    pg.press('enter')\n",
    "    time.sleep(5)\n",
    "    pg.hotkey('ctrl', 'w')\n",
    "\n",
    "print(\"Asegúrate de haber iniciado sesión en WhatsApp Web.\")\n",
    "time.sleep(5)\n",
    "\n",
    "for contacto in contactos:\n",
    "    enviar_mensaje(contacto, mensaje)\n"
   ]
  }
 ],
 "metadata": {
  "kernelspec": {
   "display_name": "Python 3",
   "language": "python",
   "name": "python3"
  },
  "language_info": {
   "codemirror_mode": {
    "name": "ipython",
    "version": 3
   },
   "file_extension": ".py",
   "mimetype": "text/x-python",
   "name": "python",
   "nbconvert_exporter": "python",
   "pygments_lexer": "ipython3",
   "version": "3.11.9"
  }
 },
 "nbformat": 4,
 "nbformat_minor": 2
}
